{
  "nbformat": 4,
  "nbformat_minor": 0,
  "metadata": {
    "colab": {
      "provenance": [],
      "gpuType": "T4"
    },
    "kernelspec": {
      "name": "python3",
      "display_name": "Python 3"
    },
    "language_info": {
      "name": "python"
    },
    "accelerator": "GPU"
  },
  "cells": [
    {
      "cell_type": "code",
      "execution_count": null,
      "metadata": {
        "id": "CQFsodEc_vwS",
        "colab": {
          "base_uri": "https://localhost:8080/"
        },
        "outputId": "dc22540e-a2d7-43d5-ab77-80bfddf29e9f"
      },
      "outputs": [
        {
          "output_type": "stream",
          "name": "stdout",
          "text": [
            "\u001b[2K     \u001b[90m━━━━━━━━━━━━━━━━━━━━━━━━━━━━━━━━━━━━━━━\u001b[0m \u001b[32m298.2/298.2 kB\u001b[0m \u001b[31m3.2 MB/s\u001b[0m eta \u001b[36m0:00:00\u001b[0m\n",
            "\u001b[2K     \u001b[90m━━━━━━━━━━━━━━━━━━━━━━━━━━━━━━━━━━━━━━━━\u001b[0m \u001b[32m78.5/78.5 kB\u001b[0m \u001b[31m9.2 MB/s\u001b[0m eta \u001b[36m0:00:00\u001b[0m\n",
            "\u001b[2K     \u001b[90m━━━━━━━━━━━━━━━━━━━━━━━━━━━━━━━━━━━━━━━━\u001b[0m \u001b[32m98.7/98.7 kB\u001b[0m \u001b[31m9.7 MB/s\u001b[0m eta \u001b[36m0:00:00\u001b[0m\n",
            "\u001b[2K     \u001b[90m━━━━━━━━━━━━━━━━━━━━━━━━━━━━━━━━━━━━━━\u001b[0m \u001b[32m594.0/594.0 kB\u001b[0m \u001b[31m11.9 MB/s\u001b[0m eta \u001b[36m0:00:00\u001b[0m\n",
            "\u001b[2K     \u001b[90m━━━━━━━━━━━━━━━━━━━━━━━━━━━━━━━━━━━━━━\u001b[0m \u001b[32m162.3/162.3 kB\u001b[0m \u001b[31m18.9 MB/s\u001b[0m eta \u001b[36m0:00:00\u001b[0m\n",
            "\u001b[2K     \u001b[90m━━━━━━━━━━━━━━━━━━━━━━━━━━━━━━━━━━━━━━━━\u001b[0m \u001b[32m49.6/49.6 kB\u001b[0m \u001b[31m6.6 MB/s\u001b[0m eta \u001b[36m0:00:00\u001b[0m\n",
            "\u001b[2K     \u001b[90m━━━━━━━━━━━━━━━━━━━━━━━━━━━━━━━━━━━━━━━━\u001b[0m \u001b[32m75.1/75.1 MB\u001b[0m \u001b[31m7.3 MB/s\u001b[0m eta \u001b[36m0:00:00\u001b[0m\n",
            "\u001b[2K     \u001b[90m━━━━━━━━━━━━━━━━━━━━━━━━━━━━━━━━━━━━━━━━\u001b[0m \u001b[32m17.0/17.0 MB\u001b[0m \u001b[31m63.4 MB/s\u001b[0m eta \u001b[36m0:00:00\u001b[0m\n",
            "\u001b[2K     \u001b[90m━━━━━━━━━━━━━━━━━━━━━━━━━━━━━━━━━━━━━━━━\u001b[0m \u001b[32m7.4/7.4 MB\u001b[0m \u001b[31m38.0 MB/s\u001b[0m eta \u001b[36m0:00:00\u001b[0m\n",
            "\u001b[2K     \u001b[90m━━━━━━━━━━━━━━━━━━━━━━━━━━━━━━━━━━━━━━━━\u001b[0m \u001b[32m62.8/62.8 kB\u001b[0m \u001b[31m8.4 MB/s\u001b[0m eta \u001b[36m0:00:00\u001b[0m\n",
            "\u001b[2K     \u001b[90m━━━━━━━━━━━━━━━━━━━━━━━━━━━━━━━━━━━━━━\u001b[0m \u001b[32m215.6/215.6 kB\u001b[0m \u001b[31m25.8 MB/s\u001b[0m eta \u001b[36m0:00:00\u001b[0m\n",
            "\u001b[?25h\u001b[31mERROR: pip's dependency resolver does not currently take into account all the packages that are installed. This behaviour is the source of the following dependency conflicts.\n",
            "google-colab 1.0.0 requires requests==2.31.0, but you have requests 2.28.1 which is incompatible.\n",
            "yfinance 0.2.27 requires requests>=2.31, but you have requests 2.28.1 which is incompatible.\u001b[0m\u001b[31m\n",
            "\u001b[2K     \u001b[90m━━━━━━━━━━━━━━━━━━━━━━━━━━━━━━━━━━━━━━━━\u001b[0m \u001b[32m69.8/69.8 kB\u001b[0m \u001b[31m1.6 MB/s\u001b[0m eta \u001b[36m0:00:00\u001b[0m\n",
            "\u001b[?25h"
          ]
        }
      ],
      "source": [
        "!pip install -r requirements_gpu.txt --quiet\n",
        "!pip install dropbox --quiet\n",
        "!pip install fastai --quiet\n",
        "!pip install fastdup --quiet\n",
        "!pip install imageai --upgrade --quiet"
      ]
    },
    {
      "cell_type": "code",
      "execution_count": null,
      "metadata": {
        "colab": {
          "base_uri": "https://localhost:8080/"
        },
        "id": "0xkSn-LANMW5",
        "outputId": "a9c1f40e-e0bc-44f2-ee85-65b06a84d71e"
      },
      "outputs": [
        {
          "output_type": "stream",
          "name": "stdout",
          "text": [
            "Mounted at /content/drive\n"
          ]
        }
      ],
      "source": [
        "from google.colab import drive\n",
        "drive.mount('/content/drive')"
      ]
    },
    {
      "cell_type": "code",
      "source": [
        "import dropbox\n",
        "import pandas as pd\n",
        "import matplotlib.pyplot as plt\n",
        "import seaborn as sns\n",
        "from PIL import Image\n",
        "import tempfile\n",
        "import os\n",
        "import shutil\n",
        "import fastdup\n",
        "import cv2\n",
        "import numpy as np\n",
        "import torch"
      ],
      "metadata": {
        "id": "MgB-Ci7gH3Um"
      },
      "execution_count": null,
      "outputs": []
    },
    {
      "cell_type": "code",
      "source": [
        "dbx_api_key = \"sl.Bj4Scs7_TRE67V1ceS-wvqUtAuU1lx09ojdIYfMslE0u4iGkcunkvrhxQ1cBhzOCAcOx70c_7A8Xot6QV9VcP6baGWssfmbBki505MdXFTuAnSrQNKCA0vcQTS67jAO67WHVqublYRHP\"\n",
        "dbx = dropbox.Dropbox(dbx_api_key)"
      ],
      "metadata": {
        "id": "Z0UD8uSwH3Un"
      },
      "execution_count": null,
      "outputs": []
    },
    {
      "cell_type": "markdown",
      "source": [
        "## Donwload relevant folders and Pre-Process the Data"
      ],
      "metadata": {
        "id": "Do3NIOVQD8Yi"
      }
    },
    {
      "cell_type": "code",
      "source": [
        "def read_from_dropbox(csv_path: str) -> pd.DataFrame:\n",
        "    \"\"\"\n",
        "    Reads a CSV file from Dropbox given its path.\n",
        "    \"\"\"\n",
        "    _, temp_file_path = tempfile.mkstemp()\n",
        "    dbx.files_download_to_file(temp_file_path, csv_path)\n",
        "    return pd.read_csv(temp_file_path)\n",
        "\n",
        "def preprocess_dataframe(df: pd.DataFrame) -> pd.DataFrame:\n",
        "    \"\"\"\n",
        "    Preprocesses the given DataFrame by adding timestamps and episode_number columns.\n",
        "    \"\"\"\n",
        "    df['timestamps'] = pd.to_datetime(df['DateTime'])\n",
        "    time_diff = df['timestamps'].diff()\n",
        "\n",
        "    threshold = 1\n",
        "    start_new_episode = time_diff > pd.Timedelta(minutes=threshold)\n",
        "    episode_number = start_new_episode.cumsum()\n",
        "    df['episode_number'] = episode_number\n",
        "    return df\n",
        "\n",
        "# Usage:\n",
        "csv_path = '/SUMMER 2023 animals only/Border Mammals Summer Results Raw Data.csv'\n",
        "df = read_from_dropbox(csv_path)\n",
        "df = preprocess_dataframe(df)\n",
        "df.head(10)"
      ],
      "metadata": {
        "colab": {
          "base_uri": "https://localhost:8080/",
          "height": 598
        },
        "id": "9-TiDDTwIdfx",
        "outputId": "82407de5-eac5-4207-937b-2012e0d9a8b2"
      },
      "execution_count": null,
      "outputs": [
        {
          "output_type": "execute_result",
          "data": {
            "text/plain": [
              "                 RootFolder          File RelativePath              DateTime  DeleteFlag  Season Day_Night  Mammal  Counter                        Remarks  Episode Direction  Unnamed: 12          timestamps  episode_number\n",
              "0  SUMMER 2023 animals only  IMG_0022.JPG         2030   2023-07-11 18:02:22       False  Summer       Day    Bird        1  Spur-winged lapwing (sik sak)    False      Pass          NaN 2023-07-11 18:02:22               0\n",
              "1  SUMMER 2023 animals only  IMG_0023.JPG         2030   2023-07-11 18:02:24       False  Summer       Day    Bird        0  Spur-winged lapwing (sik sak)    False      Pass          NaN 2023-07-11 18:02:24               0\n",
              "2  SUMMER 2023 animals only  IMG_0025.JPG         2030   2023-07-12 00:21:20       False  Summer     Night  Jackal        1                            NaN    False        In          NaN 2023-07-12 00:21:20               1\n",
              "3  SUMMER 2023 animals only  IMG_0070.JPG         2030   2023-07-19 08:01:22       False  Summer       Day    Bird        1                            NaN    False      Pass          NaN 2023-07-19 08:01:22               2\n",
              "4  SUMMER 2023 animals only  IMG_0127.JPG         2030   2023-07-22 08:54:08       False  Summer       Day     Dog        1                            NaN    False      Pass          NaN 2023-07-22 08:54:08               3\n",
              "5  SUMMER 2023 animals only  IMG_0130.JPG         2030   2023-07-23 00:49:46       False  Summer     Night    Bird        1          Eurasian stone-curlew     True      Pass          NaN 2023-07-23 00:49:46               4\n",
              "6  SUMMER 2023 animals only  IMG_0131.JPG         2030   2023-07-23 00:49:48       False  Summer     Night    Bird        0          Eurasian stone-curlew     True      Pass          NaN 2023-07-23 00:49:48               4\n",
              "7  SUMMER 2023 animals only  IMG_0132.JPG         2030   2023-07-23 00:49:50       False  Summer     Night    Bird        0          Eurasian stone-curlew     True      Pass          NaN 2023-07-23 00:49:50               4\n",
              "8  SUMMER 2023 animals only  IMG_0136.JPG         2030   2023-07-24 06:22:43       False  Summer       Day     Dog        1                            NaN     True      Pass          NaN 2023-07-24 06:22:43               5\n",
              "9  SUMMER 2023 animals only  IMG_0137.JPG         2030   2023-07-24 06:22:43       False  Summer       Day     Dog        0                            NaN     True      Pass          NaN 2023-07-24 06:22:43               5"
            ],
            "text/html": [
              "\n",
              "\n",
              "  <div id=\"df-be4d93b5-016f-4701-a7ee-8abe887eb521\">\n",
              "    <div class=\"colab-df-container\">\n",
              "      <div>\n",
              "<style scoped>\n",
              "    .dataframe tbody tr th:only-of-type {\n",
              "        vertical-align: middle;\n",
              "    }\n",
              "\n",
              "    .dataframe tbody tr th {\n",
              "        vertical-align: top;\n",
              "    }\n",
              "\n",
              "    .dataframe thead th {\n",
              "        text-align: right;\n",
              "    }\n",
              "</style>\n",
              "<table border=\"1\" class=\"dataframe\">\n",
              "  <thead>\n",
              "    <tr style=\"text-align: right;\">\n",
              "      <th></th>\n",
              "      <th>RootFolder</th>\n",
              "      <th>File</th>\n",
              "      <th>RelativePath</th>\n",
              "      <th>DateTime</th>\n",
              "      <th>DeleteFlag</th>\n",
              "      <th>Season</th>\n",
              "      <th>Day_Night</th>\n",
              "      <th>Mammal</th>\n",
              "      <th>Counter</th>\n",
              "      <th>Remarks</th>\n",
              "      <th>Episode</th>\n",
              "      <th>Direction</th>\n",
              "      <th>Unnamed: 12</th>\n",
              "      <th>timestamps</th>\n",
              "      <th>episode_number</th>\n",
              "    </tr>\n",
              "  </thead>\n",
              "  <tbody>\n",
              "    <tr>\n",
              "      <th>0</th>\n",
              "      <td>SUMMER 2023 animals only</td>\n",
              "      <td>IMG_0022.JPG</td>\n",
              "      <td>2030</td>\n",
              "      <td>2023-07-11 18:02:22</td>\n",
              "      <td>False</td>\n",
              "      <td>Summer</td>\n",
              "      <td>Day</td>\n",
              "      <td>Bird</td>\n",
              "      <td>1</td>\n",
              "      <td>Spur-winged lapwing (sik sak)</td>\n",
              "      <td>False</td>\n",
              "      <td>Pass</td>\n",
              "      <td>NaN</td>\n",
              "      <td>2023-07-11 18:02:22</td>\n",
              "      <td>0</td>\n",
              "    </tr>\n",
              "    <tr>\n",
              "      <th>1</th>\n",
              "      <td>SUMMER 2023 animals only</td>\n",
              "      <td>IMG_0023.JPG</td>\n",
              "      <td>2030</td>\n",
              "      <td>2023-07-11 18:02:24</td>\n",
              "      <td>False</td>\n",
              "      <td>Summer</td>\n",
              "      <td>Day</td>\n",
              "      <td>Bird</td>\n",
              "      <td>0</td>\n",
              "      <td>Spur-winged lapwing (sik sak)</td>\n",
              "      <td>False</td>\n",
              "      <td>Pass</td>\n",
              "      <td>NaN</td>\n",
              "      <td>2023-07-11 18:02:24</td>\n",
              "      <td>0</td>\n",
              "    </tr>\n",
              "    <tr>\n",
              "      <th>2</th>\n",
              "      <td>SUMMER 2023 animals only</td>\n",
              "      <td>IMG_0025.JPG</td>\n",
              "      <td>2030</td>\n",
              "      <td>2023-07-12 00:21:20</td>\n",
              "      <td>False</td>\n",
              "      <td>Summer</td>\n",
              "      <td>Night</td>\n",
              "      <td>Jackal</td>\n",
              "      <td>1</td>\n",
              "      <td>NaN</td>\n",
              "      <td>False</td>\n",
              "      <td>In</td>\n",
              "      <td>NaN</td>\n",
              "      <td>2023-07-12 00:21:20</td>\n",
              "      <td>1</td>\n",
              "    </tr>\n",
              "    <tr>\n",
              "      <th>3</th>\n",
              "      <td>SUMMER 2023 animals only</td>\n",
              "      <td>IMG_0070.JPG</td>\n",
              "      <td>2030</td>\n",
              "      <td>2023-07-19 08:01:22</td>\n",
              "      <td>False</td>\n",
              "      <td>Summer</td>\n",
              "      <td>Day</td>\n",
              "      <td>Bird</td>\n",
              "      <td>1</td>\n",
              "      <td>NaN</td>\n",
              "      <td>False</td>\n",
              "      <td>Pass</td>\n",
              "      <td>NaN</td>\n",
              "      <td>2023-07-19 08:01:22</td>\n",
              "      <td>2</td>\n",
              "    </tr>\n",
              "    <tr>\n",
              "      <th>4</th>\n",
              "      <td>SUMMER 2023 animals only</td>\n",
              "      <td>IMG_0127.JPG</td>\n",
              "      <td>2030</td>\n",
              "      <td>2023-07-22 08:54:08</td>\n",
              "      <td>False</td>\n",
              "      <td>Summer</td>\n",
              "      <td>Day</td>\n",
              "      <td>Dog</td>\n",
              "      <td>1</td>\n",
              "      <td>NaN</td>\n",
              "      <td>False</td>\n",
              "      <td>Pass</td>\n",
              "      <td>NaN</td>\n",
              "      <td>2023-07-22 08:54:08</td>\n",
              "      <td>3</td>\n",
              "    </tr>\n",
              "    <tr>\n",
              "      <th>5</th>\n",
              "      <td>SUMMER 2023 animals only</td>\n",
              "      <td>IMG_0130.JPG</td>\n",
              "      <td>2030</td>\n",
              "      <td>2023-07-23 00:49:46</td>\n",
              "      <td>False</td>\n",
              "      <td>Summer</td>\n",
              "      <td>Night</td>\n",
              "      <td>Bird</td>\n",
              "      <td>1</td>\n",
              "      <td>Eurasian stone-curlew</td>\n",
              "      <td>True</td>\n",
              "      <td>Pass</td>\n",
              "      <td>NaN</td>\n",
              "      <td>2023-07-23 00:49:46</td>\n",
              "      <td>4</td>\n",
              "    </tr>\n",
              "    <tr>\n",
              "      <th>6</th>\n",
              "      <td>SUMMER 2023 animals only</td>\n",
              "      <td>IMG_0131.JPG</td>\n",
              "      <td>2030</td>\n",
              "      <td>2023-07-23 00:49:48</td>\n",
              "      <td>False</td>\n",
              "      <td>Summer</td>\n",
              "      <td>Night</td>\n",
              "      <td>Bird</td>\n",
              "      <td>0</td>\n",
              "      <td>Eurasian stone-curlew</td>\n",
              "      <td>True</td>\n",
              "      <td>Pass</td>\n",
              "      <td>NaN</td>\n",
              "      <td>2023-07-23 00:49:48</td>\n",
              "      <td>4</td>\n",
              "    </tr>\n",
              "    <tr>\n",
              "      <th>7</th>\n",
              "      <td>SUMMER 2023 animals only</td>\n",
              "      <td>IMG_0132.JPG</td>\n",
              "      <td>2030</td>\n",
              "      <td>2023-07-23 00:49:50</td>\n",
              "      <td>False</td>\n",
              "      <td>Summer</td>\n",
              "      <td>Night</td>\n",
              "      <td>Bird</td>\n",
              "      <td>0</td>\n",
              "      <td>Eurasian stone-curlew</td>\n",
              "      <td>True</td>\n",
              "      <td>Pass</td>\n",
              "      <td>NaN</td>\n",
              "      <td>2023-07-23 00:49:50</td>\n",
              "      <td>4</td>\n",
              "    </tr>\n",
              "    <tr>\n",
              "      <th>8</th>\n",
              "      <td>SUMMER 2023 animals only</td>\n",
              "      <td>IMG_0136.JPG</td>\n",
              "      <td>2030</td>\n",
              "      <td>2023-07-24 06:22:43</td>\n",
              "      <td>False</td>\n",
              "      <td>Summer</td>\n",
              "      <td>Day</td>\n",
              "      <td>Dog</td>\n",
              "      <td>1</td>\n",
              "      <td>NaN</td>\n",
              "      <td>True</td>\n",
              "      <td>Pass</td>\n",
              "      <td>NaN</td>\n",
              "      <td>2023-07-24 06:22:43</td>\n",
              "      <td>5</td>\n",
              "    </tr>\n",
              "    <tr>\n",
              "      <th>9</th>\n",
              "      <td>SUMMER 2023 animals only</td>\n",
              "      <td>IMG_0137.JPG</td>\n",
              "      <td>2030</td>\n",
              "      <td>2023-07-24 06:22:43</td>\n",
              "      <td>False</td>\n",
              "      <td>Summer</td>\n",
              "      <td>Day</td>\n",
              "      <td>Dog</td>\n",
              "      <td>0</td>\n",
              "      <td>NaN</td>\n",
              "      <td>True</td>\n",
              "      <td>Pass</td>\n",
              "      <td>NaN</td>\n",
              "      <td>2023-07-24 06:22:43</td>\n",
              "      <td>5</td>\n",
              "    </tr>\n",
              "  </tbody>\n",
              "</table>\n",
              "</div>\n",
              "      <button class=\"colab-df-convert\" onclick=\"convertToInteractive('df-be4d93b5-016f-4701-a7ee-8abe887eb521')\"\n",
              "              title=\"Convert this dataframe to an interactive table.\"\n",
              "              style=\"display:none;\">\n",
              "\n",
              "  <svg xmlns=\"http://www.w3.org/2000/svg\" height=\"24px\"viewBox=\"0 0 24 24\"\n",
              "       width=\"24px\">\n",
              "    <path d=\"M0 0h24v24H0V0z\" fill=\"none\"/>\n",
              "    <path d=\"M18.56 5.44l.94 2.06.94-2.06 2.06-.94-2.06-.94-.94-2.06-.94 2.06-2.06.94zm-11 1L8.5 8.5l.94-2.06 2.06-.94-2.06-.94L8.5 2.5l-.94 2.06-2.06.94zm10 10l.94 2.06.94-2.06 2.06-.94-2.06-.94-.94-2.06-.94 2.06-2.06.94z\"/><path d=\"M17.41 7.96l-1.37-1.37c-.4-.4-.92-.59-1.43-.59-.52 0-1.04.2-1.43.59L10.3 9.45l-7.72 7.72c-.78.78-.78 2.05 0 2.83L4 21.41c.39.39.9.59 1.41.59.51 0 1.02-.2 1.41-.59l7.78-7.78 2.81-2.81c.8-.78.8-2.07 0-2.86zM5.41 20L4 18.59l7.72-7.72 1.47 1.35L5.41 20z\"/>\n",
              "  </svg>\n",
              "      </button>\n",
              "\n",
              "\n",
              "\n",
              "    <div id=\"df-f3b33943-d496-409b-ba57-6969e005c4c8\">\n",
              "      <button class=\"colab-df-quickchart\" onclick=\"quickchart('df-f3b33943-d496-409b-ba57-6969e005c4c8')\"\n",
              "              title=\"Suggest charts.\"\n",
              "              style=\"display:none;\">\n",
              "\n",
              "<svg xmlns=\"http://www.w3.org/2000/svg\" height=\"24px\"viewBox=\"0 0 24 24\"\n",
              "     width=\"24px\">\n",
              "    <g>\n",
              "        <path d=\"M19 3H5c-1.1 0-2 .9-2 2v14c0 1.1.9 2 2 2h14c1.1 0 2-.9 2-2V5c0-1.1-.9-2-2-2zM9 17H7v-7h2v7zm4 0h-2V7h2v10zm4 0h-2v-4h2v4z\"/>\n",
              "    </g>\n",
              "</svg>\n",
              "      </button>\n",
              "    </div>\n",
              "\n",
              "<style>\n",
              "  .colab-df-quickchart {\n",
              "    background-color: #E8F0FE;\n",
              "    border: none;\n",
              "    border-radius: 50%;\n",
              "    cursor: pointer;\n",
              "    display: none;\n",
              "    fill: #1967D2;\n",
              "    height: 32px;\n",
              "    padding: 0 0 0 0;\n",
              "    width: 32px;\n",
              "  }\n",
              "\n",
              "  .colab-df-quickchart:hover {\n",
              "    background-color: #E2EBFA;\n",
              "    box-shadow: 0px 1px 2px rgba(60, 64, 67, 0.3), 0px 1px 3px 1px rgba(60, 64, 67, 0.15);\n",
              "    fill: #174EA6;\n",
              "  }\n",
              "\n",
              "  [theme=dark] .colab-df-quickchart {\n",
              "    background-color: #3B4455;\n",
              "    fill: #D2E3FC;\n",
              "  }\n",
              "\n",
              "  [theme=dark] .colab-df-quickchart:hover {\n",
              "    background-color: #434B5C;\n",
              "    box-shadow: 0px 1px 3px 1px rgba(0, 0, 0, 0.15);\n",
              "    filter: drop-shadow(0px 1px 2px rgba(0, 0, 0, 0.3));\n",
              "    fill: #FFFFFF;\n",
              "  }\n",
              "</style>\n",
              "\n",
              "    <script>\n",
              "      async function quickchart(key) {\n",
              "        const containerElement = document.querySelector('#' + key);\n",
              "        const charts = await google.colab.kernel.invokeFunction(\n",
              "            'suggestCharts', [key], {});\n",
              "      }\n",
              "    </script>\n",
              "\n",
              "      <script>\n",
              "\n",
              "function displayQuickchartButton(domScope) {\n",
              "  let quickchartButtonEl =\n",
              "    domScope.querySelector('#df-f3b33943-d496-409b-ba57-6969e005c4c8 button.colab-df-quickchart');\n",
              "  quickchartButtonEl.style.display =\n",
              "    google.colab.kernel.accessAllowed ? 'block' : 'none';\n",
              "}\n",
              "\n",
              "        displayQuickchartButton(document);\n",
              "      </script>\n",
              "      <style>\n",
              "    .colab-df-container {\n",
              "      display:flex;\n",
              "      flex-wrap:wrap;\n",
              "      gap: 12px;\n",
              "    }\n",
              "\n",
              "    .colab-df-convert {\n",
              "      background-color: #E8F0FE;\n",
              "      border: none;\n",
              "      border-radius: 50%;\n",
              "      cursor: pointer;\n",
              "      display: none;\n",
              "      fill: #1967D2;\n",
              "      height: 32px;\n",
              "      padding: 0 0 0 0;\n",
              "      width: 32px;\n",
              "    }\n",
              "\n",
              "    .colab-df-convert:hover {\n",
              "      background-color: #E2EBFA;\n",
              "      box-shadow: 0px 1px 2px rgba(60, 64, 67, 0.3), 0px 1px 3px 1px rgba(60, 64, 67, 0.15);\n",
              "      fill: #174EA6;\n",
              "    }\n",
              "\n",
              "    [theme=dark] .colab-df-convert {\n",
              "      background-color: #3B4455;\n",
              "      fill: #D2E3FC;\n",
              "    }\n",
              "\n",
              "    [theme=dark] .colab-df-convert:hover {\n",
              "      background-color: #434B5C;\n",
              "      box-shadow: 0px 1px 3px 1px rgba(0, 0, 0, 0.15);\n",
              "      filter: drop-shadow(0px 1px 2px rgba(0, 0, 0, 0.3));\n",
              "      fill: #FFFFFF;\n",
              "    }\n",
              "  </style>\n",
              "\n",
              "      <script>\n",
              "        const buttonEl =\n",
              "          document.querySelector('#df-be4d93b5-016f-4701-a7ee-8abe887eb521 button.colab-df-convert');\n",
              "        buttonEl.style.display =\n",
              "          google.colab.kernel.accessAllowed ? 'block' : 'none';\n",
              "\n",
              "        async function convertToInteractive(key) {\n",
              "          const element = document.querySelector('#df-be4d93b5-016f-4701-a7ee-8abe887eb521');\n",
              "          const dataTable =\n",
              "            await google.colab.kernel.invokeFunction('convertToInteractive',\n",
              "                                                     [key], {});\n",
              "          if (!dataTable) return;\n",
              "\n",
              "          const docLinkHtml = 'Like what you see? Visit the ' +\n",
              "            '<a target=\"_blank\" href=https://colab.research.google.com/notebooks/data_table.ipynb>data table notebook</a>'\n",
              "            + ' to learn more about interactive tables.';\n",
              "          element.innerHTML = '';\n",
              "          dataTable['output_type'] = 'display_data';\n",
              "          await google.colab.output.renderOutput(dataTable, element);\n",
              "          const docLink = document.createElement('div');\n",
              "          docLink.innerHTML = docLinkHtml;\n",
              "          element.appendChild(docLink);\n",
              "        }\n",
              "      </script>\n",
              "    </div>\n",
              "  </div>\n"
            ]
          },
          "metadata": {},
          "execution_count": 6
        }
      ]
    },
    {
      "cell_type": "markdown",
      "source": [
        "### Get Animals Images from DropBox"
      ],
      "metadata": {
        "id": "tOKQj5z6M-8f"
      }
    },
    {
      "cell_type": "code",
      "source": [
        "!mkdir ./animal_pics\n",
        "\n",
        "!mkdir ./animal_pics/Jackal\n",
        "!mkdir ./animal_pics/Gazelle\n",
        "!mkdir ./animal_pics/Dog\n",
        "!mkdir ./animal_pics/Fox\n",
        "!mkdir ./animal_pics/Bird\n",
        "!mkdir ./animal_pics/Hare\n",
        "!mkdir ./animal_pics/Cat\n",
        "!mkdir ./animal_pics/Unknown_animal\n",
        "\n",
        "local_dirs = {\n",
        "    'Dog': './animal_pics/Dog',\n",
        "    'Cat': './animal_pics/Cat',\n",
        "    'Fox': './animal_pics/Fox',\n",
        "    'Bird': './animal_pics/Bird',\n",
        "    'Gazelle': './animal_pics/Gazelle',\n",
        "    'Hare': './animal_pics/Hare',\n",
        "    'Jackal': './animal_pics/Jackal',\n",
        "    'Unknown_animal': './animal_pics/Unknown_animal',\n",
        "}"
      ],
      "metadata": {
        "id": "w8-Vq-Z2NCON"
      },
      "execution_count": null,
      "outputs": []
    },
    {
      "cell_type": "code",
      "source": [
        "def get_animal(df, picture):\n",
        "    return df[df['File'] == picture].iloc[0]['Mammal']\n",
        "\n",
        "def download_animal_images(df, base_folder_path, local_dirs):\n",
        "    \"\"\"\n",
        "    Downloads animal images from Dropbox to local directories based on animal type.\n",
        "\n",
        "    Args:\n",
        "    - df (pd.DataFrame): DataFrame containing relative paths and other necessary columns.\n",
        "    - base_folder_path (str): Base folder path in Dropbox.\n",
        "    - local_dirs (dict): Dictionary mapping animal names to local directory paths.\n",
        "    \"\"\"\n",
        "    for r_path in df['RelativePath'].unique():\n",
        "        print(r_path)\n",
        "        folder_path = os.path.join(base_folder_path, r_path)\n",
        "        filterd_df = df[df['RelativePath'] == r_path]\n",
        "\n",
        "        # List files in the folder\n",
        "        try:\n",
        "            result = dbx.files_list_folder(folder_path, limit=20)\n",
        "        except dropbox.exceptions.ApiError as e:\n",
        "            print(f\"Error listing contents of {folder_path}: {e}\")\n",
        "            continue\n",
        "\n",
        "        for entry in result.entries:\n",
        "            # Only process files, skip directories or other types of entries\n",
        "            if not isinstance(entry, dropbox.files.FileMetadata):\n",
        "                continue\n",
        "\n",
        "            file_path = os.path.join(folder_path, entry.name)\n",
        "            animal_type = get_animal(filterd_df, str(entry.name))\n",
        "\n",
        "            # Get the local directory for this animal type\n",
        "            local_dir = local_dirs.get(animal_type)\n",
        "            if local_dir is not None:\n",
        "                new_name = f'{r_path}_{entry.name}'\n",
        "                local_path = os.path.join(local_dir, new_name)\n",
        "                try:\n",
        "                    dbx.files_download_to_file(local_path, file_path)\n",
        "                except dropbox.exceptions.ApiError as e:\n",
        "                    print(f\"Error downloading {file_path}: {e}\")"
      ],
      "metadata": {
        "id": "oNGNjfRtNFxT"
      },
      "execution_count": null,
      "outputs": []
    },
    {
      "cell_type": "code",
      "source": [
        "images_path = \"/SUMMER 2023 animals only/\"\n",
        "download_animal_images(df, images_path, local_dirs)"
      ],
      "metadata": {
        "colab": {
          "base_uri": "https://localhost:8080/"
        },
        "id": "oApijXK8OgEs",
        "outputId": "3b4ffe58-733a-4d1c-a422-bfcad280c877"
      },
      "execution_count": null,
      "outputs": [
        {
          "output_type": "stream",
          "name": "stdout",
          "text": [
            "2030\n",
            "2031\n",
            "2032\n",
            "2033\n",
            "2034\n",
            "2035\n",
            "2036\n",
            "2037\n",
            "2038\n",
            "2039\n",
            "2040\n",
            "2041\n",
            "2042\n",
            "2043\n",
            "2044\n",
            "2045\n",
            "2046\n",
            "2047\n",
            "2048\n",
            "2049\n",
            "2051\\leaned\n",
            "Error listing contents of /SUMMER 2023 animals only/2051\\leaned: ApiError('f2b8c7afc29a4d7bbeb5a0c80fecadbc', ListFolderError('path', LookupError('malformed_path', None)))\n",
            "2052\n",
            "2053\n",
            "2054\n",
            "2055\n",
            "2057\n",
            "2058\n",
            "2060\n",
            "2061\n",
            "2062\n",
            "2063\n",
            "2064\n",
            "2065\n",
            "2066\n",
            "2067\n",
            "2068\n",
            "2069\n",
            "2070\n"
          ]
        }
      ]
    },
    {
      "cell_type": "markdown",
      "source": [
        "# Load trained ImageAI model"
      ],
      "metadata": {
        "id": "0pf1EtD-VqCG"
      }
    },
    {
      "cell_type": "markdown",
      "source": [
        "Load the trainned model last checkpoint in order to peform detection"
      ],
      "metadata": {
        "id": "asStVCykQtIV"
      }
    },
    {
      "cell_type": "code",
      "source": [
        "from imageai.Detection.Custom import CustomObjectDetection\n",
        "import re\n",
        "import matplotlib.patches as patches\n",
        "\n",
        "detector = CustomObjectDetection()\n",
        "detector.setModelTypeAsYOLOv3()"
      ],
      "metadata": {
        "id": "BeeGraNiV4Rr"
      },
      "execution_count": null,
      "outputs": []
    },
    {
      "cell_type": "code",
      "source": [
        "detector.setModelPath(\"/content/drive/MyDrive/BGU Courses/data mining with miki project/yolov3_YOLO_mAP-0.36626_epoch-24.pt\")\n",
        "detector.setJsonPath(\"/content/drive/MyDrive/BGU Courses/data mining with miki project/YOLO_yolov3_detection_config.json\")\n",
        "detector.loadModel()"
      ],
      "metadata": {
        "id": "fjMDg-vRV4OX"
      },
      "execution_count": null,
      "outputs": []
    },
    {
      "cell_type": "markdown",
      "source": [
        "#### Functions that perform the detection pipeline"
      ],
      "metadata": {
        "id": "otiwH6LvQMjO"
      }
    },
    {
      "cell_type": "code",
      "source": [
        "def detect_objects(detector, image_path):\n",
        "    detections = detector.detectObjectsFromImage(input_image=image_path, minimum_percentage_probability=50, nms_treshold=0.1)\n",
        "    return detections\n",
        "\n",
        "def print_detection_info(image_path, detections):\n",
        "    image_name = os.path.basename(image_path)\n",
        "    print(f\"Image: {image_name}\")\n",
        "    for detection in detections:\n",
        "        print(detection[\"name\"], \" : \", detection[\"percentage_probability\"], \" : \", detection[\"box_points\"])\n",
        "\n",
        "def plot_image_with_boxes(image_path, detections):\n",
        "    # Load the image\n",
        "    image = Image.open(image_path)\n",
        "    image = np.array(image)\n",
        "\n",
        "    # Create a new figure\n",
        "    plt.figure(figsize=(12,6))\n",
        "\n",
        "    # Plot the image without detections\n",
        "    plt.subplot(1, 2, 1)  # 1 row, 2 columns, first plot\n",
        "    plt.title('Original Image')\n",
        "    plt.imshow(image)\n",
        "\n",
        "    # Plot the image with detections\n",
        "    plt.subplot(1, 2, 2)  # 1 row, 2 columns, second plot\n",
        "    plt.title('Image with Detections')\n",
        "\n",
        "    # Get the current axes, creating one if necessary.\n",
        "    ax = plt.gca()\n",
        "\n",
        "    # Display the image\n",
        "    ax.imshow(image)\n",
        "\n",
        "    # Loop over all detections\n",
        "    for detection in detections:\n",
        "        # Get the bounding box coordinates\n",
        "        top_left_x, top_left_y, bottom_right_x, bottom_right_y = detection[\"box_points\"]\n",
        "\n",
        "        # Compute the width and height of the bounding box\n",
        "        width = bottom_right_x - top_left_x\n",
        "        height = bottom_right_y - top_left_y\n",
        "\n",
        "        # Create the rectangle patch and add it to the plot\n",
        "        rect = patches.Rectangle((top_left_x, top_left_y), width, height, linewidth=1, edgecolor='r', facecolor='none')\n",
        "        ax.add_patch(rect)\n",
        "\n",
        "    # Show the plot\n",
        "    plt.tight_layout()\n",
        "    plt.show()\n",
        "\n",
        "    # Clear the plot for future use\n",
        "    plt.clf()\n",
        "def detection_pipeline(detector, image_path):\n",
        "    detections = detect_objects(detector, image_path)\n",
        "    print_detection_info(image_path, detections)\n",
        "    plot_image_with_boxes(image_path, detections)"
      ],
      "metadata": {
        "id": "8S1Z-srvQRmP"
      },
      "execution_count": null,
      "outputs": []
    },
    {
      "cell_type": "markdown",
      "source": [
        "#### Functions that perform the detection pipeline"
      ],
      "metadata": {
        "id": "WKpj8CZ-Ve2L"
      }
    },
    {
      "cell_type": "code",
      "source": [
        "def detect_objects(detector, image_path):\n",
        "    try:\n",
        "        detections = detector.detectObjectsFromImage(input_image=image_path, minimum_percentage_probability=50, nms_treshold=0.1)\n",
        "        return detections\n",
        "    except Exception as e:\n",
        "        print(f\"Error processing {image_path}: {e}\")\n",
        "        return []\n",
        "\n",
        "def print_detection_info(image_path, detections):\n",
        "    image_name = os.path.basename(image_path)\n",
        "    print(f\"Image: {image_name}\")\n",
        "    for detection in detections:\n",
        "        print(detection[\"name\"], \" : \", detection[\"percentage_probability\"], \" : \", detection[\"box_points\"])\n",
        "\n",
        "def plot_image_with_boxes(image_path, detections):\n",
        "    # Load the image\n",
        "    image = Image.open(image_path)\n",
        "    image = np.array(image)\n",
        "\n",
        "    # Create a new figure\n",
        "    plt.figure(figsize=(12,6))\n",
        "\n",
        "    # Plot the image without detections\n",
        "    plt.subplot(1, 2, 1)  # 1 row, 2 columns, first plot\n",
        "    plt.title('Original Image')\n",
        "    plt.imshow(image)\n",
        "\n",
        "    # Plot the image with detections\n",
        "    plt.subplot(1, 2, 2)  # 1 row, 2 columns, second plot\n",
        "    plt.title('Image with Detections')\n",
        "\n",
        "    # Get the current axes, creating one if necessary.\n",
        "    ax = plt.gca()\n",
        "\n",
        "    # Display the image\n",
        "    ax.imshow(image)\n",
        "\n",
        "    # Loop over all detections\n",
        "    for detection in detections:\n",
        "        # Get the bounding box coordinates\n",
        "        top_left_x, top_left_y, bottom_right_x, bottom_right_y = detection[\"box_points\"]\n",
        "\n",
        "        # Compute the width and height of the bounding box\n",
        "        width = bottom_right_x - top_left_x\n",
        "        height = bottom_right_y - top_left_y\n",
        "\n",
        "        # Create the rectangle patch and add it to the plot\n",
        "        rect = patches.Rectangle((top_left_x, top_left_y), width, height, linewidth=1, edgecolor='r', facecolor='none')\n",
        "        ax.add_patch(rect)\n",
        "\n",
        "    # Show the plot\n",
        "    plt.tight_layout()\n",
        "    plt.show()\n",
        "\n",
        "    # Clear the plot for future use\n",
        "    plt.clf()\n",
        "def detection_pipeline(detector, image_path):\n",
        "    detections = detect_objects(detector, image_path)\n",
        "    print_detection_info(image_path, detections)\n",
        "    plot_image_with_boxes(image_path, detections)"
      ],
      "metadata": {
        "id": "k9b0x-12Ve2M"
      },
      "execution_count": null,
      "outputs": []
    },
    {
      "cell_type": "markdown",
      "source": [
        "### Evaluate Model Detection"
      ],
      "metadata": {
        "id": "najYUhhwbiYe"
      }
    },
    {
      "cell_type": "code",
      "source": [
        "def precision(tp, fp):\n",
        "    \"\"\"Calculate the precision based on the true and false positives.\"\"\"\n",
        "    try:\n",
        "        return tp / (tp + fp)\n",
        "    except ZeroDivisionError:\n",
        "        return 0\n",
        "\n",
        "def recall(tp, fn):\n",
        "    \"\"\"Calculate the recall based on the true positives and false negatives.\"\"\"\n",
        "    try:\n",
        "        return tp / (tp + fn)\n",
        "    except ZeroDivisionError:\n",
        "        return 0\n",
        "\n",
        "def f1_score(precision, recall):\n",
        "    try:\n",
        "        return 2 * (precision * recall) / (precision + recall)\n",
        "    except ZeroDivisionError:\n",
        "        return 0"
      ],
      "metadata": {
        "id": "lEOUFumzfQm7"
      },
      "execution_count": null,
      "outputs": []
    },
    {
      "cell_type": "markdown",
      "source": [
        "Eval dir of images"
      ],
      "metadata": {
        "id": "JV2BXjR8dIpJ"
      }
    },
    {
      "cell_type": "code",
      "source": [
        "def evaluate_detector_on_directory(detector, directory_path, ground_truth_df, plot_results=False, num_samples=None):\n",
        "    image_files = os.listdir(directory_path)\n",
        "\n",
        "    # Initialize counters for true positives, false positives, false negatives, and evaluated samples\n",
        "    tp = 0\n",
        "    fp = 0\n",
        "    fn = 0\n",
        "    samples_evaluated = 0\n",
        "\n",
        "    for image_file in image_files:\n",
        "        # If we've evaluated enough samples, break the loop\n",
        "        if num_samples is not None and samples_evaluated >= num_samples:\n",
        "            break\n",
        "\n",
        "        image_path = os.path.join(directory_path, image_file)\n",
        "        detections = detect_objects(detector, image_path)\n",
        "        if plot_results:\n",
        "            detection_pipeline(detector, image_path)\n",
        "\n",
        "        # Extract the image name from the image path\n",
        "        image_name = os.path.basename(image_path).split('_', 1)[1]\n",
        "\n",
        "        # Find the ground truth data for this image\n",
        "        ground_truth = ground_truth_df[ground_truth_df['File'] == image_name]\n",
        "\n",
        "        # Check if there is ground truth data for this image\n",
        "        if ground_truth.empty:\n",
        "            print(f\"No ground truth data found for image {image_name}\")\n",
        "            continue\n",
        "\n",
        "        # Get the true labels and predicted labels for each image\n",
        "        true_animal = ground_truth['Mammal'].values[0]\n",
        "        pred_animal = detections[0]['name'] if len(detections) > 0 else 'No Detection'\n",
        "\n",
        "        # Compare the true and predicted labels to update the counters\n",
        "        if true_animal == pred_animal:\n",
        "            tp += 1\n",
        "        else:\n",
        "            if pred_animal == 'No Detection':\n",
        "                fn += 1\n",
        "            else:\n",
        "                fp += 1\n",
        "\n",
        "        # Increment the counter for evaluated samples\n",
        "        samples_evaluated += 1\n",
        "\n",
        "    return tp, fp, fn, samples_evaluated\n",
        "\n",
        "    # Calculate precision and recall\n",
        "    precision_value = precision(tp, fp)\n",
        "    recall_value = recall(tp, fn)\n",
        "\n",
        "    # print(f'Precision: {precision_value}')\n",
        "    # print(f'Recall: {recall_value}')\n",
        "\n",
        "def evaluate_on_all_images(detector, base_path, ground_truth_df, plot_results=False, num_samples=None):\n",
        "    animal_dirs = [d for d in os.listdir(base_path) if os.path.isdir(os.path.join(base_path, d))]\n",
        "\n",
        "    total_tp = 0\n",
        "    total_fp = 0\n",
        "    total_fn = 0\n",
        "    total_samples = 0\n",
        "\n",
        "    for animal_dir in animal_dirs:\n",
        "        directory_path = os.path.join(base_path, animal_dir)\n",
        "        tp, fp, fn, samples_evaluated = evaluate_detector_on_directory(detector, directory_path, ground_truth_df, plot_results, num_samples)\n",
        "\n",
        "        total_tp += tp\n",
        "        total_fp += fp\n",
        "        total_fn += fn\n",
        "        total_samples += samples_evaluated\n",
        "\n",
        "    # Calculate precision, recall, accuracy and F1 score\n",
        "    overall_precision = precision(total_tp, total_fp)\n",
        "    overall_recall = recall(total_tp, total_fn)\n",
        "    overall_accuracy = total_tp / total_samples\n",
        "    overall_f1 = f1_score(overall_precision, overall_recall)\n",
        "\n",
        "    print(f'Accuracy: {overall_accuracy}')\n",
        "    print(f'Precision: {overall_precision}')\n",
        "    print(f'Recall: {overall_recall}')\n",
        "    print(f'F1 Score: {overall_f1}')\n",
        "\n",
        "# Invoke the function\n",
        "evaluate_on_all_images(detector, \"/content/animal_pics\", df, False)"
      ],
      "metadata": {
        "id": "pKLjHIWxdK2A",
        "colab": {
          "base_uri": "https://localhost:8080/"
        },
        "outputId": "5e8c6b58-b58c-4589-ca05-e609c1d900d2"
      },
      "execution_count": null,
      "outputs": [
        {
          "output_type": "stream",
          "name": "stdout",
          "text": [
            "Error processing /content/animal_pics/Jackal/2035_IMAG0004.MOV: local variable 'img' referenced before assignment\n",
            "Accuracy: 0.23416506717850288\n",
            "Precision: 0.40131578947368424\n",
            "Recall: 0.35988200589970504\n",
            "F1 Score: 0.3794712286158632\n"
          ]
        }
      ]
    },
    {
      "cell_type": "markdown",
      "source": [
        "##### Evaluate Dog directory from Winter data"
      ],
      "metadata": {
        "id": "h6Ffd9AbhaJG"
      }
    },
    {
      "cell_type": "code",
      "source": [
        "evaluate_detector_on_directory(detector, \"/content/animal_pics/Dog\", df, False)"
      ],
      "metadata": {
        "colab": {
          "base_uri": "https://localhost:8080/"
        },
        "id": "YqOXZaeJfa1Q",
        "outputId": "c5278dd4-6e7f-4214-adec-19f27fe6d451"
      },
      "execution_count": null,
      "outputs": [
        {
          "output_type": "stream",
          "name": "stdout",
          "text": [
            "Precision: 0.6666666666666666\n",
            "Recall: 0.7619047619047619\n"
          ]
        }
      ]
    },
    {
      "cell_type": "code",
      "source": [
        "evaluate_detector_on_directory(detector, \"/content/animal_pics/Dog\", df, True, 20)"
      ],
      "metadata": {
        "id": "_GcoHe7FnrZm"
      },
      "execution_count": null,
      "outputs": []
    },
    {
      "cell_type": "markdown",
      "source": [
        "##### Evaluate Fox directory from Winter data"
      ],
      "metadata": {
        "id": "WInLcKt9nxx_"
      }
    },
    {
      "cell_type": "code",
      "source": [
        "evaluate_detector_on_directory(detector, \"/content/animal_pics/Fox\", df, False, 50)"
      ],
      "metadata": {
        "colab": {
          "base_uri": "https://localhost:8080/"
        },
        "id": "PrGsvaulheec",
        "outputId": "81ac38f7-cee5-4dc0-9bac-48173c7e9c14"
      },
      "execution_count": null,
      "outputs": [
        {
          "output_type": "stream",
          "name": "stdout",
          "text": [
            "Precision: 0.24242424242424243\n",
            "Recall: 0.32\n"
          ]
        }
      ]
    },
    {
      "cell_type": "code",
      "source": [
        "evaluate_detector_on_directory(detector, \"/content/animal_pics/Fox\", df, True, 20)"
      ],
      "metadata": {
        "id": "lhWeldDrn_fW"
      },
      "execution_count": null,
      "outputs": []
    },
    {
      "cell_type": "markdown",
      "source": [
        "##### Evaluate Jackal directory from Winter data"
      ],
      "metadata": {
        "id": "KL0xFA6An1wp"
      }
    },
    {
      "cell_type": "code",
      "source": [
        "evaluate_detector_on_directory(detector, \"/content/animal_pics/Jackal\", df, False, 50)"
      ],
      "metadata": {
        "colab": {
          "base_uri": "https://localhost:8080/"
        },
        "id": "_ZIjvNthiySH",
        "outputId": "41b8d28e-3686-4772-ffae-1dd774e82b30"
      },
      "execution_count": null,
      "outputs": [
        {
          "output_type": "stream",
          "name": "stdout",
          "text": [
            "Precision: 0.5714285714285714\n",
            "Recall: 0.3333333333333333\n"
          ]
        }
      ]
    },
    {
      "cell_type": "code",
      "source": [
        "evaluate_detector_on_directory(detector, \"/content/animal_pics/Jackal\", df, True, 20)"
      ],
      "metadata": {
        "id": "xAjIBMIfoNgF"
      },
      "execution_count": null,
      "outputs": []
    },
    {
      "cell_type": "markdown",
      "source": [
        "##### Evaluate Gazelle directory from Winter data"
      ],
      "metadata": {
        "id": "Adwlhuxmskxx"
      }
    },
    {
      "cell_type": "code",
      "source": [
        "evaluate_detector_on_directory(detector, \"/content/animal_pics/Gazelle\", df, False, 50)"
      ],
      "metadata": {
        "colab": {
          "base_uri": "https://localhost:8080/"
        },
        "id": "87rIc25wsqAp",
        "outputId": "c1327e9b-364d-41b9-aebc-9c99a332a149"
      },
      "execution_count": null,
      "outputs": [
        {
          "output_type": "stream",
          "name": "stdout",
          "text": [
            "Precision: 0.46875\n",
            "Recall: 0.45454545454545453\n"
          ]
        }
      ]
    },
    {
      "cell_type": "code",
      "source": [
        "evaluate_detector_on_directory(detector, \"/content/animal_pics/Gazelle\", df, True, 20)"
      ],
      "metadata": {
        "id": "-HpIx966sqvV"
      },
      "execution_count": null,
      "outputs": []
    },
    {
      "cell_type": "markdown",
      "source": [
        "##### Evaluate Cat directory from Winter data"
      ],
      "metadata": {
        "id": "9rM9OfKctAQi"
      }
    },
    {
      "cell_type": "code",
      "source": [
        "evaluate_detector_on_directory(detector, \"/content/animal_pics/Cat\", df, False, 50)"
      ],
      "metadata": {
        "colab": {
          "base_uri": "https://localhost:8080/"
        },
        "outputId": "8f72dc9d-6c79-4fde-9765-afa4a4937edd",
        "id": "JhStuEBztAQj"
      },
      "execution_count": null,
      "outputs": [
        {
          "output_type": "stream",
          "name": "stdout",
          "text": [
            "Precision: 0\n",
            "Recall: 0\n"
          ]
        }
      ]
    },
    {
      "cell_type": "code",
      "source": [
        "evaluate_detector_on_directory(detector, \"/content/animal_pics/Cat\", df, True, 20)"
      ],
      "metadata": {
        "colab": {
          "base_uri": "https://localhost:8080/"
        },
        "outputId": "d0c3d3c9-7899-4f54-a700-9ed8be699d9d",
        "id": "kkFqAPvitAQj"
      },
      "execution_count": null,
      "outputs": [
        {
          "output_type": "stream",
          "name": "stdout",
          "text": [
            "Precision: 0\n",
            "Recall: 0\n"
          ]
        }
      ]
    },
    {
      "cell_type": "markdown",
      "source": [
        "##### Evaluate Bird directory from Winter data"
      ],
      "metadata": {
        "id": "L9hxigDOtUbI"
      }
    },
    {
      "cell_type": "code",
      "source": [
        "evaluate_detector_on_directory(detector, \"/content/animal_pics/Bird\", df, False, 50)"
      ],
      "metadata": {
        "colab": {
          "base_uri": "https://localhost:8080/"
        },
        "outputId": "3a81b33a-526a-4239-852b-0d7dc8af8e37",
        "id": "fSw59lWLtUbJ"
      },
      "execution_count": null,
      "outputs": [
        {
          "output_type": "stream",
          "name": "stdout",
          "text": [
            "Precision: 0.21428571428571427\n",
            "Recall: 0.15789473684210525\n"
          ]
        }
      ]
    },
    {
      "cell_type": "code",
      "source": [
        "evaluate_detector_on_directory(detector, \"/content/animal_pics/Bird\", df, True, 20)"
      ],
      "metadata": {
        "id": "SbNKdvLCtUbJ"
      },
      "execution_count": null,
      "outputs": []
    },
    {
      "cell_type": "markdown",
      "source": [
        "##### Evaluate Hare directory from Winter data"
      ],
      "metadata": {
        "id": "Hx7PbwyGtrhR"
      }
    },
    {
      "cell_type": "code",
      "source": [
        "evaluate_detector_on_directory(detector, \"/content/animal_pics/Hare\", df, False, 50)"
      ],
      "metadata": {
        "colab": {
          "base_uri": "https://localhost:8080/"
        },
        "outputId": "96ed9929-dbb7-4bb9-bfe9-bc16594db4b5",
        "id": "y9Xp2dp0trhZ"
      },
      "execution_count": null,
      "outputs": [
        {
          "output_type": "stream",
          "name": "stdout",
          "text": [
            "Precision: 0.25925925925925924\n",
            "Recall: 0.4375\n"
          ]
        }
      ]
    },
    {
      "cell_type": "code",
      "source": [
        "evaluate_detector_on_directory(detector, \"/content/animal_pics/Hare\", df, True, 20)"
      ],
      "metadata": {
        "id": "cAuvO_SGtrhZ"
      },
      "execution_count": null,
      "outputs": []
    }
  ]
}